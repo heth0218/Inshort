{
  "nbformat": 4,
  "nbformat_minor": 0,
  "metadata": {
    "colab": {
      "name": "TextSummarization.ipynb",
      "provenance": []
    },
    "kernelspec": {
      "name": "python3",
      "display_name": "Python 3"
    }
  },
  "cells": [
    {
      "cell_type": "code",
      "metadata": {
        "id": "UFe28961ZGtl",
        "colab_type": "code",
        "colab": {}
      },
      "source": [
        "import spacy \n",
        "from spacy.lang.en.stop_words import STOP_WORDS\n",
        "from string import punctuation"
      ],
      "execution_count": 1,
      "outputs": []
    },
    {
      "cell_type": "code",
      "metadata": {
        "id": "hYW8OwdpZ32f",
        "colab_type": "code",
        "colab": {}
      },
      "source": [
        "stopwords=list(STOP_WORDS);\n",
        "stopwords"
      ],
      "execution_count": null,
      "outputs": []
    },
    {
      "cell_type": "code",
      "metadata": {
        "id": "KbPQTB_HaAGj",
        "colab_type": "code",
        "colab": {}
      },
      "source": [
        "nlp=spacy.load('en_core_web_sm')"
      ],
      "execution_count": 4,
      "outputs": []
    },
    {
      "cell_type": "code",
      "metadata": {
        "id": "4Tqr3S_ze8z_",
        "colab_type": "code",
        "colab": {}
      },
      "source": [
        "text=\"\"\" \n",
        "Amid the COVID-19 pandemic, the government of Liberia plans to enforce a new tariff that will further increase revenue by implementing a mobile phone company surcharge. \n",
        "\n",
        "Facing harsh economic conditions due to the pandemic, internet and voice call users have taken their pent-up anger to the streets on June 25, setting up roadblocks, burning tires and chanting anti-government songs related to the tax surcharge. The Liberian National Police arrested a few protesters during the protest. \n",
        "\n",
        "Several opposition leaders oppose the surcharge, saying that the additional fee will stifle the digital rights of everyday Liberians.\n",
        "\n",
        "In 2018, the Liberia Telecommunication Authority (LTA) issued an order that imposed price floors and surcharges on net voice calls and data, essentially putting an end to three-day free calls and data bundles that used to cost $1 United States dollar. \n",
        "\n",
        "The cost-prohibitive surcharge will make it harder for everyday Liberians to get online, limiting digital access at the height of a pandemic when citizens need reliable information more than ever. \n",
        "\n",
        "Liberia’s two main service operators — Orange and Lonestar — are also opposed to the surcharge. In fact, Orange Liberia’s Chief Executive Officer Mamadou Coulibaly was arrested by the National Security Agency in connection with the protest action. He has since been released pending further investigation.\n",
        "\n",
        "Orange last month filed a writ of prohibition to have the Supreme Court put an injunction on the enforcement of the surcharge but it was denied until a full bench meets on the case, quoting presiding Justice Jamesetta Howard Wolokolie.\n",
        "\n",
        "Both Orange and Lonestar have contributed significantly to the government through their taxes over the years. From the days of former President Ellen Johnson Sirleaf to now-President George Manneh Weah, there has been a pattern of tax levy increases when the government is desperate to wrestle out of budget shortfalls. \"\"\""
      ],
      "execution_count": 120,
      "outputs": []
    },
    {
      "cell_type": "code",
      "metadata": {
        "id": "164Mpzt5aLKT",
        "colab_type": "code",
        "colab": {}
      },
      "source": [
        "doc=nlp(text)"
      ],
      "execution_count": 121,
      "outputs": []
    },
    {
      "cell_type": "code",
      "metadata": {
        "id": "uK6ecuiia2_m",
        "colab_type": "code",
        "colab": {
          "base_uri": "https://localhost:8080/",
          "height": 53
        },
        "outputId": "95b7a42f-ca5f-4bc1-823b-c0969aa53443"
      },
      "source": [
        "tokens=[token.text for token in doc]\n",
        "print(tokens)"
      ],
      "execution_count": 122,
      "outputs": [
        {
          "output_type": "stream",
          "text": [
            "[' \\n', 'Amid', 'the', 'COVID-19', 'pandemic', ',', 'the', 'government', 'of', 'Liberia', 'plans', 'to', 'enforce', 'a', 'new', 'tariff', 'that', 'will', 'further', 'increase', 'revenue', 'by', 'implementing', 'a', 'mobile', 'phone', 'company', 'surcharge', '.', '\\n\\n', 'Facing', 'harsh', 'economic', 'conditions', 'due', 'to', 'the', 'pandemic', ',', 'internet', 'and', 'voice', 'call', 'users', 'have', 'taken', 'their', 'pent', '-', 'up', 'anger', 'to', 'the', 'streets', 'on', 'June', '25', ',', 'setting', 'up', 'roadblocks', ',', 'burning', 'tires', 'and', 'chanting', 'anti', '-', 'government', 'songs', 'related', 'to', 'the', 'tax', 'surcharge', '.', 'The', 'Liberian', 'National', 'Police', 'arrested', 'a', 'few', 'protesters', 'during', 'the', 'protest', '.', '\\n\\n', 'Several', 'opposition', 'leaders', 'oppose', 'the', 'surcharge', ',', 'saying', 'that', 'the', 'additional', 'fee', 'will', 'stifle', 'the', 'digital', 'rights', 'of', 'everyday', 'Liberians', '.', '\\n\\n', 'In', '2018', ',', 'the', 'Liberia', 'Telecommunication', 'Authority', '(', 'LTA', ')', 'issued', 'an', 'order', 'that', 'imposed', 'price', 'floors', 'and', 'surcharges', 'on', 'net', 'voice', 'calls', 'and', 'data', ',', 'essentially', 'putting', 'an', 'end', 'to', 'three', '-', 'day', 'free', 'calls', 'and', 'data', 'bundles', 'that', 'used', 'to', 'cost', '$', '1', 'United', 'States', 'dollar', '.', '\\n\\n', 'The', 'cost', '-', 'prohibitive', 'surcharge', 'will', 'make', 'it', 'harder', 'for', 'everyday', 'Liberians', 'to', 'get', 'online', ',', 'limiting', 'digital', 'access', 'at', 'the', 'height', 'of', 'a', 'pandemic', 'when', 'citizens', 'need', 'reliable', 'information', 'more', 'than', 'ever', '.', '\\n\\n', 'Liberia', '’s', 'two', 'main', 'service', 'operators', '—', 'Orange', 'and', 'Lonestar', '—', 'are', 'also', 'opposed', 'to', 'the', 'surcharge', '.', 'In', 'fact', ',', 'Orange', 'Liberia', '’s', 'Chief', 'Executive', 'Officer', 'Mamadou', 'Coulibaly', 'was', 'arrested', 'by', 'the', 'National', 'Security', 'Agency', 'in', 'connection', 'with', 'the', 'protest', 'action', '.', 'He', 'has', 'since', 'been', 'released', 'pending', 'further', 'investigation', '.', '\\n\\n', 'Orange', 'last', 'month', 'filed', 'a', 'writ', 'of', 'prohibition', 'to', 'have', 'the', 'Supreme', 'Court', 'put', 'an', 'injunction', 'on', 'the', 'enforcement', 'of', 'the', 'surcharge', 'but', 'it', 'was', 'denied', 'until', 'a', 'full', 'bench', 'meets', 'on', 'the', 'case', ',', 'quoting', 'presiding', 'Justice', 'Jamesetta', 'Howard', 'Wolokolie', '.', '\\n\\n', 'Both', 'Orange', 'and', 'Lonestar', 'have', 'contributed', 'significantly', 'to', 'the', 'government', 'through', 'their', 'taxes', 'over', 'the', 'years', '.', 'From', 'the', 'days', 'of', 'former', 'President', 'Ellen', 'Johnson', 'Sirleaf', 'to', 'now', '-', 'President', 'George', 'Manneh', 'Weah', ',', 'there', 'has', 'been', 'a', 'pattern', 'of', 'tax', 'levy', 'increases', 'when', 'the', 'government', 'is', 'desperate', 'to', 'wrestle', 'out', 'of', 'budget', 'shortfalls', '.']\n"
          ],
          "name": "stdout"
        }
      ]
    },
    {
      "cell_type": "code",
      "metadata": {
        "id": "cYhXe8vZa_-X",
        "colab_type": "code",
        "colab": {}
      },
      "source": [
        "punctuation=punctuation+'\\n'"
      ],
      "execution_count": 123,
      "outputs": []
    },
    {
      "cell_type": "code",
      "metadata": {
        "id": "FOsT-n5IbcMH",
        "colab_type": "code",
        "colab": {
          "base_uri": "https://localhost:8080/",
          "height": 35
        },
        "outputId": "18eecfde-b71b-4197-caab-73fe426e135c"
      },
      "source": [
        "punctuation"
      ],
      "execution_count": 124,
      "outputs": [
        {
          "output_type": "execute_result",
          "data": {
            "application/vnd.google.colaboratory.intrinsic+json": {
              "type": "string"
            },
            "text/plain": [
              "'!\"#$%&\\'()*+,-./:;<=>?@[\\\\]^_`{|}~\\n\\n\\n\\n\\n\\n\\n'"
            ]
          },
          "metadata": {
            "tags": []
          },
          "execution_count": 124
        }
      ]
    },
    {
      "cell_type": "code",
      "metadata": {
        "id": "1Fv2D8sWboX7",
        "colab_type": "code",
        "colab": {}
      },
      "source": [
        "word_frequencies={}\n",
        "for word in doc:\n",
        "  if word.text.lower() not in stopwords:\n",
        "    if word.text.lower() not in punctuation:\n",
        "      if word.text not in word_frequencies.keys():\n",
        "        word_frequencies[word.text]=1\n",
        "      else:\n",
        "        word_frequencies[word.text]+=1"
      ],
      "execution_count": 125,
      "outputs": []
    },
    {
      "cell_type": "code",
      "metadata": {
        "id": "jOCz0y7qcBJn",
        "colab_type": "code",
        "colab": {
          "base_uri": "https://localhost:8080/",
          "height": 53
        },
        "outputId": "23e4e56b-4c4b-4e22-eb06-4160f8c1c5bc"
      },
      "source": [
        "print(word_frequencies)"
      ],
      "execution_count": 126,
      "outputs": [
        {
          "output_type": "stream",
          "text": [
            "{' \\n': 1, 'Amid': 1, 'COVID-19': 1, 'pandemic': 3, 'government': 4, 'Liberia': 4, 'plans': 1, 'enforce': 1, 'new': 1, 'tariff': 1, 'increase': 1, 'revenue': 1, 'implementing': 1, 'mobile': 1, 'phone': 1, 'company': 1, 'surcharge': 6, 'Facing': 1, 'harsh': 1, 'economic': 1, 'conditions': 1, 'internet': 1, 'voice': 2, 'users': 1, 'taken': 1, 'pent': 1, 'anger': 1, 'streets': 1, 'June': 1, '25': 1, 'setting': 1, 'roadblocks': 1, 'burning': 1, 'tires': 1, 'chanting': 1, 'anti': 1, 'songs': 1, 'related': 1, 'tax': 2, 'Liberian': 1, 'National': 2, 'Police': 1, 'arrested': 2, 'protesters': 1, 'protest': 2, 'opposition': 1, 'leaders': 1, 'oppose': 1, 'saying': 1, 'additional': 1, 'fee': 1, 'stifle': 1, 'digital': 2, 'rights': 1, 'everyday': 2, 'Liberians': 2, '2018': 1, 'Telecommunication': 1, 'Authority': 1, 'LTA': 1, 'issued': 1, 'order': 1, 'imposed': 1, 'price': 1, 'floors': 1, 'surcharges': 1, 'net': 1, 'calls': 2, 'data': 2, 'essentially': 1, 'putting': 1, 'end': 1, 'day': 1, 'free': 1, 'bundles': 1, 'cost': 2, '1': 1, 'United': 1, 'States': 1, 'dollar': 1, 'prohibitive': 1, 'harder': 1, 'online': 1, 'limiting': 1, 'access': 1, 'height': 1, 'citizens': 1, 'need': 1, 'reliable': 1, 'information': 1, 'main': 1, 'service': 1, 'operators': 1, '—': 2, 'Orange': 4, 'Lonestar': 2, 'opposed': 1, 'fact': 1, 'Chief': 1, 'Executive': 1, 'Officer': 1, 'Mamadou': 1, 'Coulibaly': 1, 'Security': 1, 'Agency': 1, 'connection': 1, 'action': 1, 'released': 1, 'pending': 1, 'investigation': 1, 'month': 1, 'filed': 1, 'writ': 1, 'prohibition': 1, 'Supreme': 1, 'Court': 1, 'injunction': 1, 'enforcement': 1, 'denied': 1, 'bench': 1, 'meets': 1, 'case': 1, 'quoting': 1, 'presiding': 1, 'Justice': 1, 'Jamesetta': 1, 'Howard': 1, 'Wolokolie': 1, 'contributed': 1, 'significantly': 1, 'taxes': 1, 'years': 1, 'days': 1, 'President': 2, 'Ellen': 1, 'Johnson': 1, 'Sirleaf': 1, 'George': 1, 'Manneh': 1, 'Weah': 1, 'pattern': 1, 'levy': 1, 'increases': 1, 'desperate': 1, 'wrestle': 1, 'budget': 1, 'shortfalls': 1}\n"
          ],
          "name": "stdout"
        }
      ]
    },
    {
      "cell_type": "code",
      "metadata": {
        "id": "tkbqbfP_cCmX",
        "colab_type": "code",
        "colab": {}
      },
      "source": [
        "max_frequency=max(word_frequencies.values())"
      ],
      "execution_count": 127,
      "outputs": []
    },
    {
      "cell_type": "code",
      "metadata": {
        "id": "zky4-iQ5coqK",
        "colab_type": "code",
        "colab": {
          "base_uri": "https://localhost:8080/",
          "height": 33
        },
        "outputId": "f1ba0b16-e5a6-42e7-a548-02100ecca552"
      },
      "source": [
        "max_frequency"
      ],
      "execution_count": 128,
      "outputs": [
        {
          "output_type": "execute_result",
          "data": {
            "text/plain": [
              "6"
            ]
          },
          "metadata": {
            "tags": []
          },
          "execution_count": 128
        }
      ]
    },
    {
      "cell_type": "code",
      "metadata": {
        "id": "B1ZhBwiOcqFz",
        "colab_type": "code",
        "colab": {}
      },
      "source": [
        "for word in word_frequencies.keys():\n",
        "  word_frequencies[word]=word_frequencies[word]/max_frequency"
      ],
      "execution_count": 129,
      "outputs": []
    },
    {
      "cell_type": "code",
      "metadata": {
        "id": "tPZjNLpDc6EL",
        "colab_type": "code",
        "colab": {
          "base_uri": "https://localhost:8080/",
          "height": 53
        },
        "outputId": "ea75e76c-b0e5-4942-fff3-887c2c153787"
      },
      "source": [
        "print(word_frequencies)"
      ],
      "execution_count": 130,
      "outputs": [
        {
          "output_type": "stream",
          "text": [
            "{' \\n': 0.16666666666666666, 'Amid': 0.16666666666666666, 'COVID-19': 0.16666666666666666, 'pandemic': 0.5, 'government': 0.6666666666666666, 'Liberia': 0.6666666666666666, 'plans': 0.16666666666666666, 'enforce': 0.16666666666666666, 'new': 0.16666666666666666, 'tariff': 0.16666666666666666, 'increase': 0.16666666666666666, 'revenue': 0.16666666666666666, 'implementing': 0.16666666666666666, 'mobile': 0.16666666666666666, 'phone': 0.16666666666666666, 'company': 0.16666666666666666, 'surcharge': 1.0, 'Facing': 0.16666666666666666, 'harsh': 0.16666666666666666, 'economic': 0.16666666666666666, 'conditions': 0.16666666666666666, 'internet': 0.16666666666666666, 'voice': 0.3333333333333333, 'users': 0.16666666666666666, 'taken': 0.16666666666666666, 'pent': 0.16666666666666666, 'anger': 0.16666666666666666, 'streets': 0.16666666666666666, 'June': 0.16666666666666666, '25': 0.16666666666666666, 'setting': 0.16666666666666666, 'roadblocks': 0.16666666666666666, 'burning': 0.16666666666666666, 'tires': 0.16666666666666666, 'chanting': 0.16666666666666666, 'anti': 0.16666666666666666, 'songs': 0.16666666666666666, 'related': 0.16666666666666666, 'tax': 0.3333333333333333, 'Liberian': 0.16666666666666666, 'National': 0.3333333333333333, 'Police': 0.16666666666666666, 'arrested': 0.3333333333333333, 'protesters': 0.16666666666666666, 'protest': 0.3333333333333333, 'opposition': 0.16666666666666666, 'leaders': 0.16666666666666666, 'oppose': 0.16666666666666666, 'saying': 0.16666666666666666, 'additional': 0.16666666666666666, 'fee': 0.16666666666666666, 'stifle': 0.16666666666666666, 'digital': 0.3333333333333333, 'rights': 0.16666666666666666, 'everyday': 0.3333333333333333, 'Liberians': 0.3333333333333333, '2018': 0.16666666666666666, 'Telecommunication': 0.16666666666666666, 'Authority': 0.16666666666666666, 'LTA': 0.16666666666666666, 'issued': 0.16666666666666666, 'order': 0.16666666666666666, 'imposed': 0.16666666666666666, 'price': 0.16666666666666666, 'floors': 0.16666666666666666, 'surcharges': 0.16666666666666666, 'net': 0.16666666666666666, 'calls': 0.3333333333333333, 'data': 0.3333333333333333, 'essentially': 0.16666666666666666, 'putting': 0.16666666666666666, 'end': 0.16666666666666666, 'day': 0.16666666666666666, 'free': 0.16666666666666666, 'bundles': 0.16666666666666666, 'cost': 0.3333333333333333, '1': 0.16666666666666666, 'United': 0.16666666666666666, 'States': 0.16666666666666666, 'dollar': 0.16666666666666666, 'prohibitive': 0.16666666666666666, 'harder': 0.16666666666666666, 'online': 0.16666666666666666, 'limiting': 0.16666666666666666, 'access': 0.16666666666666666, 'height': 0.16666666666666666, 'citizens': 0.16666666666666666, 'need': 0.16666666666666666, 'reliable': 0.16666666666666666, 'information': 0.16666666666666666, 'main': 0.16666666666666666, 'service': 0.16666666666666666, 'operators': 0.16666666666666666, '—': 0.3333333333333333, 'Orange': 0.6666666666666666, 'Lonestar': 0.3333333333333333, 'opposed': 0.16666666666666666, 'fact': 0.16666666666666666, 'Chief': 0.16666666666666666, 'Executive': 0.16666666666666666, 'Officer': 0.16666666666666666, 'Mamadou': 0.16666666666666666, 'Coulibaly': 0.16666666666666666, 'Security': 0.16666666666666666, 'Agency': 0.16666666666666666, 'connection': 0.16666666666666666, 'action': 0.16666666666666666, 'released': 0.16666666666666666, 'pending': 0.16666666666666666, 'investigation': 0.16666666666666666, 'month': 0.16666666666666666, 'filed': 0.16666666666666666, 'writ': 0.16666666666666666, 'prohibition': 0.16666666666666666, 'Supreme': 0.16666666666666666, 'Court': 0.16666666666666666, 'injunction': 0.16666666666666666, 'enforcement': 0.16666666666666666, 'denied': 0.16666666666666666, 'bench': 0.16666666666666666, 'meets': 0.16666666666666666, 'case': 0.16666666666666666, 'quoting': 0.16666666666666666, 'presiding': 0.16666666666666666, 'Justice': 0.16666666666666666, 'Jamesetta': 0.16666666666666666, 'Howard': 0.16666666666666666, 'Wolokolie': 0.16666666666666666, 'contributed': 0.16666666666666666, 'significantly': 0.16666666666666666, 'taxes': 0.16666666666666666, 'years': 0.16666666666666666, 'days': 0.16666666666666666, 'President': 0.3333333333333333, 'Ellen': 0.16666666666666666, 'Johnson': 0.16666666666666666, 'Sirleaf': 0.16666666666666666, 'George': 0.16666666666666666, 'Manneh': 0.16666666666666666, 'Weah': 0.16666666666666666, 'pattern': 0.16666666666666666, 'levy': 0.16666666666666666, 'increases': 0.16666666666666666, 'desperate': 0.16666666666666666, 'wrestle': 0.16666666666666666, 'budget': 0.16666666666666666, 'shortfalls': 0.16666666666666666}\n"
          ],
          "name": "stdout"
        }
      ]
    },
    {
      "cell_type": "code",
      "metadata": {
        "id": "jTFyJlmHc9EC",
        "colab_type": "code",
        "colab": {
          "base_uri": "https://localhost:8080/",
          "height": 304
        },
        "outputId": "cf3e50e0-d0a8-43a2-fb7e-f39db901bdaa"
      },
      "source": [
        "sentence_tokens=[sent for sent in doc.sents]\n",
        "print(sentence_tokens)"
      ],
      "execution_count": 131,
      "outputs": [
        {
          "output_type": "stream",
          "text": [
            "[ \n",
            "Amid the COVID-19 pandemic, the government of Liberia plans to enforce a new tariff that will further increase revenue by implementing a mobile phone company surcharge. \n",
            "\n",
            ", Facing harsh economic conditions due to the pandemic, internet and voice call users have taken their pent-up anger to the streets on June 25, setting up roadblocks, burning tires and chanting anti-government songs related to the tax surcharge., The Liberian National Police arrested a few protesters during the protest. \n",
            "\n",
            ", Several opposition leaders oppose the surcharge, saying that the additional fee will stifle the digital rights of everyday Liberians.\n",
            "\n",
            ", In 2018, the Liberia Telecommunication Authority (LTA) issued an order that imposed price floors and surcharges on net voice calls and data, essentially putting an end to three-day free calls and data bundles that used to cost $1 United States dollar. \n",
            "\n",
            ", The cost-prohibitive surcharge will make it harder for everyday Liberians to get online, limiting digital access at the height of a pandemic when citizens need reliable information more than ever. \n",
            "\n",
            ", Liberia’s two main service operators — Orange and Lonestar — are also opposed to the surcharge., In fact, Orange Liberia’s Chief Executive Officer Mamadou Coulibaly was arrested by the National Security Agency in connection with the protest action., He has since been released pending further investigation.\n",
            "\n",
            ", Orange last month filed a writ of prohibition to have the Supreme Court put an injunction on the enforcement of the surcharge but it was denied until a full bench meets on the case, quoting presiding Justice Jamesetta Howard Wolokolie.\n",
            "\n",
            ", Both Orange and Lonestar have contributed significantly to the government through their taxes over the years., From the days of former President Ellen Johnson Sirleaf to now-President George Manneh Weah, there has been a pattern of tax levy increases when the government is desperate to wrestle out of budget shortfalls.]\n"
          ],
          "name": "stdout"
        }
      ]
    },
    {
      "cell_type": "code",
      "metadata": {
        "id": "g9C5XTl1dI8W",
        "colab_type": "code",
        "colab": {}
      },
      "source": [
        "sentence_scores={}\n",
        "for sent in sentence_tokens:\n",
        "  for word in sent:\n",
        "    if word.text.lower() in word_frequencies.keys():\n",
        "      if sent not in sentence_scores.keys():\n",
        "        sentence_scores[sent]=word_frequencies[word.text.lower()]\n",
        "      else:\n",
        "        sentence_scores[sent]+=word_frequencies[word.text.lower()]\n"
      ],
      "execution_count": 132,
      "outputs": []
    },
    {
      "cell_type": "code",
      "metadata": {
        "id": "xRbYBmXpdqjj",
        "colab_type": "code",
        "colab": {
          "base_uri": "https://localhost:8080/",
          "height": 304
        },
        "outputId": "a7feedc1-a5be-4df2-90b0-c1f36b0d6e1e"
      },
      "source": [
        "print(sentence_scores)"
      ],
      "execution_count": 133,
      "outputs": [
        {
          "output_type": "stream",
          "text": [
            "{ \n",
            "Amid the COVID-19 pandemic, the government of Liberia plans to enforce a new tariff that will further increase revenue by implementing a mobile phone company surcharge. \n",
            "\n",
            ": 3.999999999999999, Facing harsh economic conditions due to the pandemic, internet and voice call users have taken their pent-up anger to the streets on June 25, setting up roadblocks, burning tires and chanting anti-government songs related to the tax surcharge.: 5.833333333333332, The Liberian National Police arrested a few protesters during the protest. \n",
            "\n",
            ": 0.8333333333333333, Several opposition leaders oppose the surcharge, saying that the additional fee will stifle the digital rights of everyday Liberians.\n",
            "\n",
            ": 3.0, In 2018, the Liberia Telecommunication Authority (LTA) issued an order that imposed price floors and surcharges on net voice calls and data, essentially putting an end to three-day free calls and data bundles that used to cost $1 United States dollar. \n",
            "\n",
            ": 4.666666666666666, The cost-prohibitive surcharge will make it harder for everyday Liberians to get online, limiting digital access at the height of a pandemic when citizens need reliable information more than ever. \n",
            "\n",
            ": 4.166666666666666, Liberia’s two main service operators — Orange and Lonestar — are also opposed to the surcharge.: 2.333333333333333, In fact, Orange Liberia’s Chief Executive Officer Mamadou Coulibaly was arrested by the National Security Agency in connection with the protest action.: 1.1666666666666667, He has since been released pending further investigation.\n",
            "\n",
            ": 0.5, Orange last month filed a writ of prohibition to have the Supreme Court put an injunction on the enforcement of the surcharge but it was denied until a full bench meets on the case, quoting presiding Justice Jamesetta Howard Wolokolie.\n",
            "\n",
            ": 2.999999999999999, Both Orange and Lonestar have contributed significantly to the government through their taxes over the years.: 1.3333333333333335, From the days of former President Ellen Johnson Sirleaf to now-President George Manneh Weah, there has been a pattern of tax levy increases when the government is desperate to wrestle out of budget shortfalls.: 2.333333333333333}\n"
          ],
          "name": "stdout"
        }
      ]
    },
    {
      "cell_type": "code",
      "metadata": {
        "id": "5KRQtPq-dtgO",
        "colab_type": "code",
        "colab": {}
      },
      "source": [
        "from heapq import nlargest"
      ],
      "execution_count": 134,
      "outputs": []
    },
    {
      "cell_type": "code",
      "metadata": {
        "id": "favGhZd9d7sf",
        "colab_type": "code",
        "colab": {}
      },
      "source": [
        "select_length=int(len(sentence_tokens)*0.1)"
      ],
      "execution_count": 135,
      "outputs": []
    },
    {
      "cell_type": "code",
      "metadata": {
        "id": "3wucTNipeBd2",
        "colab_type": "code",
        "colab": {
          "base_uri": "https://localhost:8080/",
          "height": 33
        },
        "outputId": "37de7628-7c0f-4bc8-d8bd-7c7f13ec7c83"
      },
      "source": [
        "select_length"
      ],
      "execution_count": 136,
      "outputs": [
        {
          "output_type": "execute_result",
          "data": {
            "text/plain": [
              "1"
            ]
          },
          "metadata": {
            "tags": []
          },
          "execution_count": 136
        }
      ]
    },
    {
      "cell_type": "code",
      "metadata": {
        "id": "EaVFErCweCfu",
        "colab_type": "code",
        "colab": {}
      },
      "source": [
        "summary=nlargest(select_length,sentence_scores,key=sentence_scores.get)"
      ],
      "execution_count": 137,
      "outputs": []
    },
    {
      "cell_type": "code",
      "metadata": {
        "id": "HpMb3Cq4eMhu",
        "colab_type": "code",
        "colab": {
          "base_uri": "https://localhost:8080/",
          "height": 53
        },
        "outputId": "cbc132e4-e18e-45cd-f9ae-4254ca9959bb"
      },
      "source": [
        "summary"
      ],
      "execution_count": 138,
      "outputs": [
        {
          "output_type": "execute_result",
          "data": {
            "text/plain": [
              "[Facing harsh economic conditions due to the pandemic, internet and voice call users have taken their pent-up anger to the streets on June 25, setting up roadblocks, burning tires and chanting anti-government songs related to the tax surcharge.]"
            ]
          },
          "metadata": {
            "tags": []
          },
          "execution_count": 138
        }
      ]
    },
    {
      "cell_type": "code",
      "metadata": {
        "id": "eHjd3xtleNLy",
        "colab_type": "code",
        "colab": {}
      },
      "source": [
        "\n",
        "final_summary=[word.text for word in summary]"
      ],
      "execution_count": 139,
      "outputs": []
    },
    {
      "cell_type": "code",
      "metadata": {
        "id": "KA7ZltCieowb",
        "colab_type": "code",
        "colab": {}
      },
      "source": [
        "summary=\" \".join(final_summary)"
      ],
      "execution_count": 140,
      "outputs": []
    },
    {
      "cell_type": "code",
      "metadata": {
        "id": "3dsF48OaetfS",
        "colab_type": "code",
        "colab": {
          "base_uri": "https://localhost:8080/",
          "height": 53
        },
        "outputId": "54dc1c17-0bf6-4f60-e189-483a1a83192b"
      },
      "source": [
        "print(summary)"
      ],
      "execution_count": 141,
      "outputs": [
        {
          "output_type": "stream",
          "text": [
            "Facing harsh economic conditions due to the pandemic, internet and voice call users have taken their pent-up anger to the streets on June 25, setting up roadblocks, burning tires and chanting anti-government songs related to the tax surcharge.\n"
          ],
          "name": "stdout"
        }
      ]
    },
    {
      "cell_type": "code",
      "metadata": {
        "id": "X3bCgCxMeu9b",
        "colab_type": "code",
        "colab": {
          "base_uri": "https://localhost:8080/",
          "height": 33
        },
        "outputId": "a19e82d4-61bf-49a2-95de-00eccdceb319"
      },
      "source": [
        "len(text)"
      ],
      "execution_count": 142,
      "outputs": [
        {
          "output_type": "execute_result",
          "data": {
            "text/plain": [
              "1946"
            ]
          },
          "metadata": {
            "tags": []
          },
          "execution_count": 142
        }
      ]
    },
    {
      "cell_type": "code",
      "metadata": {
        "id": "xtlNroHvezxu",
        "colab_type": "code",
        "colab": {
          "base_uri": "https://localhost:8080/",
          "height": 33
        },
        "outputId": "8588857c-3dcc-4009-8604-466a3b8ced6c"
      },
      "source": [
        "len(summary)"
      ],
      "execution_count": 143,
      "outputs": [
        {
          "output_type": "execute_result",
          "data": {
            "text/plain": [
              "243"
            ]
          },
          "metadata": {
            "tags": []
          },
          "execution_count": 143
        }
      ]
    },
    {
      "cell_type": "code",
      "metadata": {
        "id": "i3hyriWUe1Bz",
        "colab_type": "code",
        "colab": {}
      },
      "source": [
        ""
      ],
      "execution_count": 143,
      "outputs": []
    }
  ]
}